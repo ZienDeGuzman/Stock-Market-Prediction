{
  "nbformat": 4,
  "nbformat_minor": 0,
  "metadata": {
    "colab": {
      "provenance": [],
      "collapsed_sections": []
    },
    "kernelspec": {
      "name": "python3",
      "display_name": "Python 3"
    },
    "language_info": {
      "name": "python"
    }
  },
  "cells": [
    {
      "cell_type": "code",
      "execution_count": 242,
      "metadata": {
        "id": "zwQILDPyAivB"
      },
      "outputs": [],
      "source": [
        "import pandas as pd\n",
        "import matplotlib.pyplot as plt\n",
        "import numpy as np\n",
        "import yfinance as yf\n",
        "import math\n",
        "import plotly.express as px\n",
        "\n",
        "from matplotlib import dates as mpl_dates\n",
        "from tensorflow.keras.models import Sequential\n",
        "from tensorflow.keras.layers import Dense, Dropout\n",
        "from tensorflow.keras.layers import LSTM\n",
        "from sklearn.metrics import mean_squared_error, mean_absolute_error, explained_variance_score, r2_score, mean_gamma_deviance\n",
        "from itertools import cycle\n"
      ]
    },
    {
      "cell_type": "code",
      "source": [
        "data = 'AYALY'\n",
        "df = yf.download(tickers=data, period='2y', interval='1d')"
      ],
      "metadata": {
        "id": "4alFnUhkAlbk",
        "colab": {
          "base_uri": "https://localhost:8080/"
        },
        "outputId": "508c8514-7c6c-41aa-9c28-d9323988e969"
      },
      "execution_count": 243,
      "outputs": [
        {
          "output_type": "stream",
          "name": "stdout",
          "text": [
            "\r[*********************100%***********************]  1 of 1 completed\n"
          ]
        }
      ]
    },
    {
      "cell_type": "code",
      "source": [
        "df.isnull().sum()\n",
        "df.describe()"
      ],
      "metadata": {
        "id": "RBtJkqrNAqDZ",
        "colab": {
          "base_uri": "https://localhost:8080/",
          "height": 297
        },
        "outputId": "2d30ac23-e9ad-4f5b-eff0-960826b3c46c"
      },
      "execution_count": 244,
      "outputs": [
        {
          "output_type": "execute_result",
          "data": {
            "text/plain": [
              "             Open        High         Low       Close   Adj Close  \\\n",
              "count  503.000000  503.000000  503.000000  503.000000  503.000000   \n",
              "mean    15.203081   15.207097   15.202863   15.205765   15.056566   \n",
              "std      1.687930    1.687192    1.687903    1.686022    1.641646   \n",
              "min     10.760000   10.760000   10.760000   10.760000   10.699000   \n",
              "25%     14.650000   14.650000   14.650000   14.650000   14.462601   \n",
              "50%     15.410000   15.410000   15.410000   15.410000   15.193402   \n",
              "75%     16.230000   16.230000   16.230000   16.230000   16.001877   \n",
              "max     18.480000   18.480000   18.480000   18.480000   18.220251   \n",
              "\n",
              "             Volume  \n",
              "count    503.000000  \n",
              "mean     162.624254  \n",
              "std     1857.287432  \n",
              "min        0.000000  \n",
              "25%        0.000000  \n",
              "50%        0.000000  \n",
              "75%        0.000000  \n",
              "max    39600.000000  "
            ],
            "text/html": [
              "\n",
              "  <div id=\"df-cefbcf65-6f78-4d73-bfa5-7dce8e1eccf2\">\n",
              "    <div class=\"colab-df-container\">\n",
              "      <div>\n",
              "<style scoped>\n",
              "    .dataframe tbody tr th:only-of-type {\n",
              "        vertical-align: middle;\n",
              "    }\n",
              "\n",
              "    .dataframe tbody tr th {\n",
              "        vertical-align: top;\n",
              "    }\n",
              "\n",
              "    .dataframe thead th {\n",
              "        text-align: right;\n",
              "    }\n",
              "</style>\n",
              "<table border=\"1\" class=\"dataframe\">\n",
              "  <thead>\n",
              "    <tr style=\"text-align: right;\">\n",
              "      <th></th>\n",
              "      <th>Open</th>\n",
              "      <th>High</th>\n",
              "      <th>Low</th>\n",
              "      <th>Close</th>\n",
              "      <th>Adj Close</th>\n",
              "      <th>Volume</th>\n",
              "    </tr>\n",
              "  </thead>\n",
              "  <tbody>\n",
              "    <tr>\n",
              "      <th>count</th>\n",
              "      <td>503.000000</td>\n",
              "      <td>503.000000</td>\n",
              "      <td>503.000000</td>\n",
              "      <td>503.000000</td>\n",
              "      <td>503.000000</td>\n",
              "      <td>503.000000</td>\n",
              "    </tr>\n",
              "    <tr>\n",
              "      <th>mean</th>\n",
              "      <td>15.203081</td>\n",
              "      <td>15.207097</td>\n",
              "      <td>15.202863</td>\n",
              "      <td>15.205765</td>\n",
              "      <td>15.056566</td>\n",
              "      <td>162.624254</td>\n",
              "    </tr>\n",
              "    <tr>\n",
              "      <th>std</th>\n",
              "      <td>1.687930</td>\n",
              "      <td>1.687192</td>\n",
              "      <td>1.687903</td>\n",
              "      <td>1.686022</td>\n",
              "      <td>1.641646</td>\n",
              "      <td>1857.287432</td>\n",
              "    </tr>\n",
              "    <tr>\n",
              "      <th>min</th>\n",
              "      <td>10.760000</td>\n",
              "      <td>10.760000</td>\n",
              "      <td>10.760000</td>\n",
              "      <td>10.760000</td>\n",
              "      <td>10.699000</td>\n",
              "      <td>0.000000</td>\n",
              "    </tr>\n",
              "    <tr>\n",
              "      <th>25%</th>\n",
              "      <td>14.650000</td>\n",
              "      <td>14.650000</td>\n",
              "      <td>14.650000</td>\n",
              "      <td>14.650000</td>\n",
              "      <td>14.462601</td>\n",
              "      <td>0.000000</td>\n",
              "    </tr>\n",
              "    <tr>\n",
              "      <th>50%</th>\n",
              "      <td>15.410000</td>\n",
              "      <td>15.410000</td>\n",
              "      <td>15.410000</td>\n",
              "      <td>15.410000</td>\n",
              "      <td>15.193402</td>\n",
              "      <td>0.000000</td>\n",
              "    </tr>\n",
              "    <tr>\n",
              "      <th>75%</th>\n",
              "      <td>16.230000</td>\n",
              "      <td>16.230000</td>\n",
              "      <td>16.230000</td>\n",
              "      <td>16.230000</td>\n",
              "      <td>16.001877</td>\n",
              "      <td>0.000000</td>\n",
              "    </tr>\n",
              "    <tr>\n",
              "      <th>max</th>\n",
              "      <td>18.480000</td>\n",
              "      <td>18.480000</td>\n",
              "      <td>18.480000</td>\n",
              "      <td>18.480000</td>\n",
              "      <td>18.220251</td>\n",
              "      <td>39600.000000</td>\n",
              "    </tr>\n",
              "  </tbody>\n",
              "</table>\n",
              "</div>\n",
              "      <button class=\"colab-df-convert\" onclick=\"convertToInteractive('df-cefbcf65-6f78-4d73-bfa5-7dce8e1eccf2')\"\n",
              "              title=\"Convert this dataframe to an interactive table.\"\n",
              "              style=\"display:none;\">\n",
              "        \n",
              "  <svg xmlns=\"http://www.w3.org/2000/svg\" height=\"24px\"viewBox=\"0 0 24 24\"\n",
              "       width=\"24px\">\n",
              "    <path d=\"M0 0h24v24H0V0z\" fill=\"none\"/>\n",
              "    <path d=\"M18.56 5.44l.94 2.06.94-2.06 2.06-.94-2.06-.94-.94-2.06-.94 2.06-2.06.94zm-11 1L8.5 8.5l.94-2.06 2.06-.94-2.06-.94L8.5 2.5l-.94 2.06-2.06.94zm10 10l.94 2.06.94-2.06 2.06-.94-2.06-.94-.94-2.06-.94 2.06-2.06.94z\"/><path d=\"M17.41 7.96l-1.37-1.37c-.4-.4-.92-.59-1.43-.59-.52 0-1.04.2-1.43.59L10.3 9.45l-7.72 7.72c-.78.78-.78 2.05 0 2.83L4 21.41c.39.39.9.59 1.41.59.51 0 1.02-.2 1.41-.59l7.78-7.78 2.81-2.81c.8-.78.8-2.07 0-2.86zM5.41 20L4 18.59l7.72-7.72 1.47 1.35L5.41 20z\"/>\n",
              "  </svg>\n",
              "      </button>\n",
              "      \n",
              "  <style>\n",
              "    .colab-df-container {\n",
              "      display:flex;\n",
              "      flex-wrap:wrap;\n",
              "      gap: 12px;\n",
              "    }\n",
              "\n",
              "    .colab-df-convert {\n",
              "      background-color: #E8F0FE;\n",
              "      border: none;\n",
              "      border-radius: 50%;\n",
              "      cursor: pointer;\n",
              "      display: none;\n",
              "      fill: #1967D2;\n",
              "      height: 32px;\n",
              "      padding: 0 0 0 0;\n",
              "      width: 32px;\n",
              "    }\n",
              "\n",
              "    .colab-df-convert:hover {\n",
              "      background-color: #E2EBFA;\n",
              "      box-shadow: 0px 1px 2px rgba(60, 64, 67, 0.3), 0px 1px 3px 1px rgba(60, 64, 67, 0.15);\n",
              "      fill: #174EA6;\n",
              "    }\n",
              "\n",
              "    [theme=dark] .colab-df-convert {\n",
              "      background-color: #3B4455;\n",
              "      fill: #D2E3FC;\n",
              "    }\n",
              "\n",
              "    [theme=dark] .colab-df-convert:hover {\n",
              "      background-color: #434B5C;\n",
              "      box-shadow: 0px 1px 3px 1px rgba(0, 0, 0, 0.15);\n",
              "      filter: drop-shadow(0px 1px 2px rgba(0, 0, 0, 0.3));\n",
              "      fill: #FFFFFF;\n",
              "    }\n",
              "  </style>\n",
              "\n",
              "      <script>\n",
              "        const buttonEl =\n",
              "          document.querySelector('#df-cefbcf65-6f78-4d73-bfa5-7dce8e1eccf2 button.colab-df-convert');\n",
              "        buttonEl.style.display =\n",
              "          google.colab.kernel.accessAllowed ? 'block' : 'none';\n",
              "\n",
              "        async function convertToInteractive(key) {\n",
              "          const element = document.querySelector('#df-cefbcf65-6f78-4d73-bfa5-7dce8e1eccf2');\n",
              "          const dataTable =\n",
              "            await google.colab.kernel.invokeFunction('convertToInteractive',\n",
              "                                                     [key], {});\n",
              "          if (!dataTable) return;\n",
              "\n",
              "          const docLinkHtml = 'Like what you see? Visit the ' +\n",
              "            '<a target=\"_blank\" href=https://colab.research.google.com/notebooks/data_table.ipynb>data table notebook</a>'\n",
              "            + ' to learn more about interactive tables.';\n",
              "          element.innerHTML = '';\n",
              "          dataTable['output_type'] = 'display_data';\n",
              "          await google.colab.output.renderOutput(dataTable, element);\n",
              "          const docLink = document.createElement('div');\n",
              "          docLink.innerHTML = docLinkHtml;\n",
              "          element.appendChild(docLink);\n",
              "        }\n",
              "      </script>\n",
              "    </div>\n",
              "  </div>\n",
              "  "
            ]
          },
          "metadata": {},
          "execution_count": 244
        }
      ]
    },
    {
      "cell_type": "code",
      "source": [
        "df.reset_index(inplace=True)\n",
        "df_adj_close=df['Adj Close']"
      ],
      "metadata": {
        "id": "S45sQUzpAqJI"
      },
      "execution_count": 245,
      "outputs": []
    },
    {
      "cell_type": "code",
      "source": [
        "from sklearn.preprocessing import MinMaxScaler\n",
        "scaler=MinMaxScaler(feature_range=(0,1))\n",
        "df_adj_close=scaler.fit_transform(np.array(df_adj_close).reshape(-1,1))\n",
        "df_adj_close.shape"
      ],
      "metadata": {
        "id": "hHxOHMUOBIMe",
        "colab": {
          "base_uri": "https://localhost:8080/"
        },
        "outputId": "82887a60-7cb2-4888-b97c-fed404651569"
      },
      "execution_count": 246,
      "outputs": [
        {
          "output_type": "execute_result",
          "data": {
            "text/plain": [
              "(503, 1)"
            ]
          },
          "metadata": {},
          "execution_count": 246
        }
      ]
    },
    {
      "cell_type": "code",
      "source": [
        "train_size=int(len(df_adj_close)*0.70)\n",
        "test_size=len(df_adj_close)-train_size\n",
        "train_data=df_adj_close[0:train_size,:]\n",
        "test_data=df_adj_close[train_size:len(df_adj_close),:1]"
      ],
      "metadata": {
        "id": "MxPdvavJAqWF"
      },
      "execution_count": 247,
      "outputs": []
    },
    {
      "cell_type": "code",
      "source": [
        "def new_dataset(df2, time_step=1):\n",
        "    x_data, y_data = [], []\n",
        "    \n",
        "    for i in range(len(df2)-time_step-1): \n",
        "        x_data.append(df2[i:(i+time_step), 0])\n",
        "        y_data.append(df2[i + time_step, 0])\n",
        "    return np.array(x_data), np.array(y_data)"
      ],
      "metadata": {
        "id": "FNInP8CqAqbk"
      },
      "execution_count": 248,
      "outputs": []
    },
    {
      "cell_type": "code",
      "source": [
        "time_step= 60\n",
        "X_train, y_train= new_dataset(train_data, time_step)\n",
        "X_test, y_test= new_dataset(test_data, time_step)\n",
        "\n",
        "X_train =X_train.reshape(X_train.shape[0],X_train.shape[1] , 1)\n",
        "X_test = X_test.reshape(X_test.shape[0],X_test.shape[1] , 1)"
      ],
      "metadata": {
        "id": "ovtQ79eiAqdy"
      },
      "execution_count": 249,
      "outputs": []
    },
    {
      "cell_type": "code",
      "source": [
        "model=Sequential()\n",
        "model.add(LSTM(20,return_sequences=True,input_shape=(time_step,1)))\n",
        "model.add(LSTM(20,return_sequences=True))\n",
        "model.add(LSTM(20))\n",
        "model.add(Dense(1))\n",
        "model.compile(loss='mean_squared_error',optimizer='adam')\n",
        "model.summary()"
      ],
      "metadata": {
        "id": "WmBxIAB_Aq7A",
        "colab": {
          "base_uri": "https://localhost:8080/"
        },
        "outputId": "94787c0e-9b16-4a8c-9d44-4d766e452b5b"
      },
      "execution_count": 250,
      "outputs": [
        {
          "output_type": "stream",
          "name": "stdout",
          "text": [
            "Model: \"sequential_10\"\n",
            "_________________________________________________________________\n",
            " Layer (type)                Output Shape              Param #   \n",
            "=================================================================\n",
            " lstm_30 (LSTM)              (None, 60, 20)            1760      \n",
            "                                                                 \n",
            " lstm_31 (LSTM)              (None, 60, 20)            3280      \n",
            "                                                                 \n",
            " lstm_32 (LSTM)              (None, 20)                3280      \n",
            "                                                                 \n",
            " dense_10 (Dense)            (None, 1)                 21        \n",
            "                                                                 \n",
            "=================================================================\n",
            "Total params: 8,341\n",
            "Trainable params: 8,341\n",
            "Non-trainable params: 0\n",
            "_________________________________________________________________\n"
          ]
        }
      ]
    },
    {
      "cell_type": "code",
      "source": [
        "model.fit(X_train,y_train,validation_data=(X_test,y_test),epochs=165,batch_size=32,verbose=1)"
      ],
      "metadata": {
        "id": "EXQCgWYjBsCt",
        "colab": {
          "base_uri": "https://localhost:8080/"
        },
        "outputId": "e7f2fbde-deb7-495a-a523-752daea71789"
      },
      "execution_count": 251,
      "outputs": [
        {
          "output_type": "stream",
          "name": "stdout",
          "text": [
            "Epoch 1/165\n",
            "10/10 [==============================] - 6s 181ms/step - loss: 0.2263 - val_loss: 0.0336\n",
            "Epoch 2/165\n",
            "10/10 [==============================] - 1s 59ms/step - loss: 0.0240 - val_loss: 0.0906\n",
            "Epoch 3/165\n",
            "10/10 [==============================] - 1s 59ms/step - loss: 0.0104 - val_loss: 0.0376\n",
            "Epoch 4/165\n",
            "10/10 [==============================] - 1s 59ms/step - loss: 0.0131 - val_loss: 0.0567\n",
            "Epoch 5/165\n",
            "10/10 [==============================] - 1s 60ms/step - loss: 0.0096 - val_loss: 0.0619\n",
            "Epoch 6/165\n",
            "10/10 [==============================] - 1s 60ms/step - loss: 0.0084 - val_loss: 0.0468\n",
            "Epoch 7/165\n",
            "10/10 [==============================] - 1s 61ms/step - loss: 0.0078 - val_loss: 0.0519\n",
            "Epoch 8/165\n",
            "10/10 [==============================] - 1s 60ms/step - loss: 0.0076 - val_loss: 0.0458\n",
            "Epoch 9/165\n",
            "10/10 [==============================] - 1s 59ms/step - loss: 0.0071 - val_loss: 0.0435\n",
            "Epoch 10/165\n",
            "10/10 [==============================] - 1s 59ms/step - loss: 0.0069 - val_loss: 0.0398\n",
            "Epoch 11/165\n",
            "10/10 [==============================] - 1s 58ms/step - loss: 0.0067 - val_loss: 0.0392\n",
            "Epoch 12/165\n",
            "10/10 [==============================] - 1s 59ms/step - loss: 0.0064 - val_loss: 0.0365\n",
            "Epoch 13/165\n",
            "10/10 [==============================] - 1s 59ms/step - loss: 0.0062 - val_loss: 0.0340\n",
            "Epoch 14/165\n",
            "10/10 [==============================] - 1s 58ms/step - loss: 0.0060 - val_loss: 0.0355\n",
            "Epoch 15/165\n",
            "10/10 [==============================] - 1s 60ms/step - loss: 0.0065 - val_loss: 0.0292\n",
            "Epoch 16/165\n",
            "10/10 [==============================] - 1s 59ms/step - loss: 0.0060 - val_loss: 0.0321\n",
            "Epoch 17/165\n",
            "10/10 [==============================] - 1s 59ms/step - loss: 0.0060 - val_loss: 0.0289\n",
            "Epoch 18/165\n",
            "10/10 [==============================] - 1s 58ms/step - loss: 0.0057 - val_loss: 0.0274\n",
            "Epoch 19/165\n",
            "10/10 [==============================] - 1s 60ms/step - loss: 0.0057 - val_loss: 0.0275\n",
            "Epoch 20/165\n",
            "10/10 [==============================] - 1s 59ms/step - loss: 0.0062 - val_loss: 0.0287\n",
            "Epoch 21/165\n",
            "10/10 [==============================] - 1s 60ms/step - loss: 0.0054 - val_loss: 0.0250\n",
            "Epoch 22/165\n",
            "10/10 [==============================] - 1s 60ms/step - loss: 0.0057 - val_loss: 0.0311\n",
            "Epoch 23/165\n",
            "10/10 [==============================] - 1s 61ms/step - loss: 0.0059 - val_loss: 0.0250\n",
            "Epoch 24/165\n",
            "10/10 [==============================] - 1s 59ms/step - loss: 0.0060 - val_loss: 0.0256\n",
            "Epoch 25/165\n",
            "10/10 [==============================] - 1s 59ms/step - loss: 0.0054 - val_loss: 0.0266\n",
            "Epoch 26/165\n",
            "10/10 [==============================] - 1s 60ms/step - loss: 0.0053 - val_loss: 0.0255\n",
            "Epoch 27/165\n",
            "10/10 [==============================] - 1s 59ms/step - loss: 0.0052 - val_loss: 0.0267\n",
            "Epoch 28/165\n",
            "10/10 [==============================] - 1s 58ms/step - loss: 0.0053 - val_loss: 0.0235\n",
            "Epoch 29/165\n",
            "10/10 [==============================] - 1s 59ms/step - loss: 0.0052 - val_loss: 0.0263\n",
            "Epoch 30/165\n",
            "10/10 [==============================] - 1s 59ms/step - loss: 0.0053 - val_loss: 0.0262\n",
            "Epoch 31/165\n",
            "10/10 [==============================] - 1s 61ms/step - loss: 0.0051 - val_loss: 0.0233\n",
            "Epoch 32/165\n",
            "10/10 [==============================] - 1s 59ms/step - loss: 0.0051 - val_loss: 0.0228\n",
            "Epoch 33/165\n",
            "10/10 [==============================] - 1s 59ms/step - loss: 0.0050 - val_loss: 0.0253\n",
            "Epoch 34/165\n",
            "10/10 [==============================] - 1s 59ms/step - loss: 0.0048 - val_loss: 0.0224\n",
            "Epoch 35/165\n",
            "10/10 [==============================] - 1s 60ms/step - loss: 0.0048 - val_loss: 0.0250\n",
            "Epoch 36/165\n",
            "10/10 [==============================] - 1s 59ms/step - loss: 0.0048 - val_loss: 0.0238\n",
            "Epoch 37/165\n",
            "10/10 [==============================] - 1s 58ms/step - loss: 0.0048 - val_loss: 0.0212\n",
            "Epoch 38/165\n",
            "10/10 [==============================] - 1s 61ms/step - loss: 0.0047 - val_loss: 0.0229\n",
            "Epoch 39/165\n",
            "10/10 [==============================] - 1s 59ms/step - loss: 0.0045 - val_loss: 0.0223\n",
            "Epoch 40/165\n",
            "10/10 [==============================] - 1s 60ms/step - loss: 0.0045 - val_loss: 0.0225\n",
            "Epoch 41/165\n",
            "10/10 [==============================] - 1s 59ms/step - loss: 0.0044 - val_loss: 0.0206\n",
            "Epoch 42/165\n",
            "10/10 [==============================] - 1s 62ms/step - loss: 0.0045 - val_loss: 0.0232\n",
            "Epoch 43/165\n",
            "10/10 [==============================] - 1s 61ms/step - loss: 0.0044 - val_loss: 0.0222\n",
            "Epoch 44/165\n",
            "10/10 [==============================] - 1s 59ms/step - loss: 0.0042 - val_loss: 0.0229\n",
            "Epoch 45/165\n",
            "10/10 [==============================] - 1s 59ms/step - loss: 0.0047 - val_loss: 0.0204\n",
            "Epoch 46/165\n",
            "10/10 [==============================] - 1s 59ms/step - loss: 0.0045 - val_loss: 0.0201\n",
            "Epoch 47/165\n",
            "10/10 [==============================] - 1s 60ms/step - loss: 0.0043 - val_loss: 0.0206\n",
            "Epoch 48/165\n",
            "10/10 [==============================] - 1s 62ms/step - loss: 0.0042 - val_loss: 0.0207\n",
            "Epoch 49/165\n",
            "10/10 [==============================] - 1s 61ms/step - loss: 0.0042 - val_loss: 0.0200\n",
            "Epoch 50/165\n",
            "10/10 [==============================] - 1s 63ms/step - loss: 0.0040 - val_loss: 0.0197\n",
            "Epoch 51/165\n",
            "10/10 [==============================] - 1s 60ms/step - loss: 0.0040 - val_loss: 0.0189\n",
            "Epoch 52/165\n",
            "10/10 [==============================] - 1s 58ms/step - loss: 0.0039 - val_loss: 0.0197\n",
            "Epoch 53/165\n",
            "10/10 [==============================] - 1s 61ms/step - loss: 0.0038 - val_loss: 0.0194\n",
            "Epoch 54/165\n",
            "10/10 [==============================] - 1s 59ms/step - loss: 0.0038 - val_loss: 0.0186\n",
            "Epoch 55/165\n",
            "10/10 [==============================] - 1s 62ms/step - loss: 0.0037 - val_loss: 0.0202\n",
            "Epoch 56/165\n",
            "10/10 [==============================] - 1s 61ms/step - loss: 0.0038 - val_loss: 0.0178\n",
            "Epoch 57/165\n",
            "10/10 [==============================] - 1s 60ms/step - loss: 0.0037 - val_loss: 0.0174\n",
            "Epoch 58/165\n",
            "10/10 [==============================] - 1s 61ms/step - loss: 0.0037 - val_loss: 0.0184\n",
            "Epoch 59/165\n",
            "10/10 [==============================] - 1s 60ms/step - loss: 0.0042 - val_loss: 0.0185\n",
            "Epoch 60/165\n",
            "10/10 [==============================] - 1s 59ms/step - loss: 0.0039 - val_loss: 0.0189\n",
            "Epoch 61/165\n",
            "10/10 [==============================] - 1s 60ms/step - loss: 0.0038 - val_loss: 0.0179\n",
            "Epoch 62/165\n",
            "10/10 [==============================] - 1s 59ms/step - loss: 0.0039 - val_loss: 0.0168\n",
            "Epoch 63/165\n",
            "10/10 [==============================] - 1s 59ms/step - loss: 0.0038 - val_loss: 0.0159\n",
            "Epoch 64/165\n",
            "10/10 [==============================] - 1s 59ms/step - loss: 0.0037 - val_loss: 0.0147\n",
            "Epoch 65/165\n",
            "10/10 [==============================] - 1s 61ms/step - loss: 0.0037 - val_loss: 0.0160\n",
            "Epoch 66/165\n",
            "10/10 [==============================] - 1s 59ms/step - loss: 0.0040 - val_loss: 0.0159\n",
            "Epoch 67/165\n",
            "10/10 [==============================] - 1s 59ms/step - loss: 0.0034 - val_loss: 0.0181\n",
            "Epoch 68/165\n",
            "10/10 [==============================] - 1s 64ms/step - loss: 0.0033 - val_loss: 0.0164\n",
            "Epoch 69/165\n",
            "10/10 [==============================] - 1s 59ms/step - loss: 0.0033 - val_loss: 0.0146\n",
            "Epoch 70/165\n",
            "10/10 [==============================] - 1s 59ms/step - loss: 0.0041 - val_loss: 0.0207\n",
            "Epoch 71/165\n",
            "10/10 [==============================] - 1s 58ms/step - loss: 0.0036 - val_loss: 0.0155\n",
            "Epoch 72/165\n",
            "10/10 [==============================] - 1s 60ms/step - loss: 0.0037 - val_loss: 0.0195\n",
            "Epoch 73/165\n",
            "10/10 [==============================] - 1s 60ms/step - loss: 0.0033 - val_loss: 0.0172\n",
            "Epoch 74/165\n",
            "10/10 [==============================] - 1s 58ms/step - loss: 0.0031 - val_loss: 0.0169\n",
            "Epoch 75/165\n",
            "10/10 [==============================] - 1s 60ms/step - loss: 0.0033 - val_loss: 0.0148\n",
            "Epoch 76/165\n",
            "10/10 [==============================] - 1s 59ms/step - loss: 0.0031 - val_loss: 0.0146\n",
            "Epoch 77/165\n",
            "10/10 [==============================] - 1s 58ms/step - loss: 0.0030 - val_loss: 0.0141\n",
            "Epoch 78/165\n",
            "10/10 [==============================] - 1s 60ms/step - loss: 0.0029 - val_loss: 0.0153\n",
            "Epoch 79/165\n",
            "10/10 [==============================] - 1s 58ms/step - loss: 0.0029 - val_loss: 0.0145\n",
            "Epoch 80/165\n",
            "10/10 [==============================] - 1s 61ms/step - loss: 0.0037 - val_loss: 0.0159\n",
            "Epoch 81/165\n",
            "10/10 [==============================] - 1s 59ms/step - loss: 0.0033 - val_loss: 0.0150\n",
            "Epoch 82/165\n",
            "10/10 [==============================] - 1s 60ms/step - loss: 0.0032 - val_loss: 0.0147\n",
            "Epoch 83/165\n",
            "10/10 [==============================] - 1s 60ms/step - loss: 0.0033 - val_loss: 0.0162\n",
            "Epoch 84/165\n",
            "10/10 [==============================] - 1s 59ms/step - loss: 0.0029 - val_loss: 0.0142\n",
            "Epoch 85/165\n",
            "10/10 [==============================] - 1s 59ms/step - loss: 0.0028 - val_loss: 0.0145\n",
            "Epoch 86/165\n",
            "10/10 [==============================] - 1s 60ms/step - loss: 0.0027 - val_loss: 0.0135\n",
            "Epoch 87/165\n",
            "10/10 [==============================] - 1s 60ms/step - loss: 0.0027 - val_loss: 0.0130\n",
            "Epoch 88/165\n",
            "10/10 [==============================] - 1s 59ms/step - loss: 0.0027 - val_loss: 0.0137\n",
            "Epoch 89/165\n",
            "10/10 [==============================] - 1s 60ms/step - loss: 0.0027 - val_loss: 0.0121\n",
            "Epoch 90/165\n",
            "10/10 [==============================] - 1s 59ms/step - loss: 0.0028 - val_loss: 0.0132\n",
            "Epoch 91/165\n",
            "10/10 [==============================] - 1s 58ms/step - loss: 0.0027 - val_loss: 0.0150\n",
            "Epoch 92/165\n",
            "10/10 [==============================] - 1s 61ms/step - loss: 0.0029 - val_loss: 0.0126\n",
            "Epoch 93/165\n",
            "10/10 [==============================] - 1s 59ms/step - loss: 0.0026 - val_loss: 0.0135\n",
            "Epoch 94/165\n",
            "10/10 [==============================] - 1s 60ms/step - loss: 0.0025 - val_loss: 0.0128\n",
            "Epoch 95/165\n",
            "10/10 [==============================] - 1s 61ms/step - loss: 0.0025 - val_loss: 0.0116\n",
            "Epoch 96/165\n",
            "10/10 [==============================] - 1s 59ms/step - loss: 0.0032 - val_loss: 0.0120\n",
            "Epoch 97/165\n",
            "10/10 [==============================] - 1s 59ms/step - loss: 0.0032 - val_loss: 0.0146\n",
            "Epoch 98/165\n",
            "10/10 [==============================] - 1s 60ms/step - loss: 0.0028 - val_loss: 0.0142\n",
            "Epoch 99/165\n",
            "10/10 [==============================] - 1s 61ms/step - loss: 0.0031 - val_loss: 0.0132\n",
            "Epoch 100/165\n",
            "10/10 [==============================] - 1s 61ms/step - loss: 0.0028 - val_loss: 0.0122\n",
            "Epoch 101/165\n",
            "10/10 [==============================] - 1s 59ms/step - loss: 0.0028 - val_loss: 0.0119\n",
            "Epoch 102/165\n",
            "10/10 [==============================] - 1s 59ms/step - loss: 0.0026 - val_loss: 0.0115\n",
            "Epoch 103/165\n",
            "10/10 [==============================] - 1s 60ms/step - loss: 0.0029 - val_loss: 0.0114\n",
            "Epoch 104/165\n",
            "10/10 [==============================] - 1s 61ms/step - loss: 0.0024 - val_loss: 0.0119\n",
            "Epoch 105/165\n",
            "10/10 [==============================] - 1s 59ms/step - loss: 0.0025 - val_loss: 0.0122\n",
            "Epoch 106/165\n",
            "10/10 [==============================] - 1s 60ms/step - loss: 0.0027 - val_loss: 0.0136\n",
            "Epoch 107/165\n",
            "10/10 [==============================] - 1s 60ms/step - loss: 0.0026 - val_loss: 0.0135\n",
            "Epoch 108/165\n",
            "10/10 [==============================] - 1s 59ms/step - loss: 0.0023 - val_loss: 0.0121\n",
            "Epoch 109/165\n",
            "10/10 [==============================] - 1s 60ms/step - loss: 0.0023 - val_loss: 0.0126\n",
            "Epoch 110/165\n",
            "10/10 [==============================] - 1s 59ms/step - loss: 0.0023 - val_loss: 0.0121\n",
            "Epoch 111/165\n",
            "10/10 [==============================] - 1s 60ms/step - loss: 0.0022 - val_loss: 0.0110\n",
            "Epoch 112/165\n",
            "10/10 [==============================] - 1s 59ms/step - loss: 0.0023 - val_loss: 0.0118\n",
            "Epoch 113/165\n",
            "10/10 [==============================] - 1s 62ms/step - loss: 0.0022 - val_loss: 0.0119\n",
            "Epoch 114/165\n",
            "10/10 [==============================] - 1s 59ms/step - loss: 0.0022 - val_loss: 0.0116\n",
            "Epoch 115/165\n",
            "10/10 [==============================] - 1s 61ms/step - loss: 0.0021 - val_loss: 0.0117\n",
            "Epoch 116/165\n",
            "10/10 [==============================] - 1s 59ms/step - loss: 0.0021 - val_loss: 0.0115\n",
            "Epoch 117/165\n",
            "10/10 [==============================] - 1s 59ms/step - loss: 0.0021 - val_loss: 0.0106\n",
            "Epoch 118/165\n",
            "10/10 [==============================] - 1s 61ms/step - loss: 0.0020 - val_loss: 0.0100\n",
            "Epoch 119/165\n",
            "10/10 [==============================] - 1s 59ms/step - loss: 0.0022 - val_loss: 0.0104\n",
            "Epoch 120/165\n",
            "10/10 [==============================] - 1s 60ms/step - loss: 0.0021 - val_loss: 0.0117\n",
            "Epoch 121/165\n",
            "10/10 [==============================] - 1s 61ms/step - loss: 0.0020 - val_loss: 0.0109\n",
            "Epoch 122/165\n",
            "10/10 [==============================] - 1s 60ms/step - loss: 0.0019 - val_loss: 0.0098\n",
            "Epoch 123/165\n",
            "10/10 [==============================] - 1s 62ms/step - loss: 0.0019 - val_loss: 0.0104\n",
            "Epoch 124/165\n",
            "10/10 [==============================] - 1s 59ms/step - loss: 0.0020 - val_loss: 0.0093\n",
            "Epoch 125/165\n",
            "10/10 [==============================] - 1s 60ms/step - loss: 0.0020 - val_loss: 0.0095\n",
            "Epoch 126/165\n",
            "10/10 [==============================] - 1s 61ms/step - loss: 0.0031 - val_loss: 0.0091\n",
            "Epoch 127/165\n",
            "10/10 [==============================] - 1s 59ms/step - loss: 0.0028 - val_loss: 0.0100\n",
            "Epoch 128/165\n",
            "10/10 [==============================] - 1s 62ms/step - loss: 0.0022 - val_loss: 0.0113\n",
            "Epoch 129/165\n",
            "10/10 [==============================] - 1s 59ms/step - loss: 0.0019 - val_loss: 0.0110\n",
            "Epoch 130/165\n",
            "10/10 [==============================] - 1s 61ms/step - loss: 0.0020 - val_loss: 0.0106\n",
            "Epoch 131/165\n",
            "10/10 [==============================] - 1s 60ms/step - loss: 0.0018 - val_loss: 0.0099\n",
            "Epoch 132/165\n",
            "10/10 [==============================] - 1s 59ms/step - loss: 0.0018 - val_loss: 0.0093\n",
            "Epoch 133/165\n",
            "10/10 [==============================] - 1s 61ms/step - loss: 0.0036 - val_loss: 0.0102\n",
            "Epoch 134/165\n",
            "10/10 [==============================] - 1s 59ms/step - loss: 0.0020 - val_loss: 0.0099\n",
            "Epoch 135/165\n",
            "10/10 [==============================] - 1s 60ms/step - loss: 0.0020 - val_loss: 0.0098\n",
            "Epoch 136/165\n",
            "10/10 [==============================] - 1s 60ms/step - loss: 0.0019 - val_loss: 0.0102\n",
            "Epoch 137/165\n",
            "10/10 [==============================] - 1s 62ms/step - loss: 0.0019 - val_loss: 0.0094\n",
            "Epoch 138/165\n",
            "10/10 [==============================] - 1s 61ms/step - loss: 0.0024 - val_loss: 0.0105\n",
            "Epoch 139/165\n",
            "10/10 [==============================] - 1s 59ms/step - loss: 0.0018 - val_loss: 0.0094\n",
            "Epoch 140/165\n",
            "10/10 [==============================] - 1s 63ms/step - loss: 0.0017 - val_loss: 0.0095\n",
            "Epoch 141/165\n",
            "10/10 [==============================] - 1s 59ms/step - loss: 0.0017 - val_loss: 0.0098\n",
            "Epoch 142/165\n",
            "10/10 [==============================] - 1s 60ms/step - loss: 0.0017 - val_loss: 0.0093\n",
            "Epoch 143/165\n",
            "10/10 [==============================] - 1s 59ms/step - loss: 0.0018 - val_loss: 0.0095\n",
            "Epoch 144/165\n",
            "10/10 [==============================] - 1s 60ms/step - loss: 0.0018 - val_loss: 0.0090\n",
            "Epoch 145/165\n",
            "10/10 [==============================] - 1s 61ms/step - loss: 0.0017 - val_loss: 0.0089\n",
            "Epoch 146/165\n",
            "10/10 [==============================] - 1s 60ms/step - loss: 0.0019 - val_loss: 0.0103\n",
            "Epoch 147/165\n",
            "10/10 [==============================] - 1s 62ms/step - loss: 0.0018 - val_loss: 0.0107\n",
            "Epoch 148/165\n",
            "10/10 [==============================] - 1s 61ms/step - loss: 0.0019 - val_loss: 0.0098\n",
            "Epoch 149/165\n",
            "10/10 [==============================] - 1s 60ms/step - loss: 0.0017 - val_loss: 0.0088\n",
            "Epoch 150/165\n",
            "10/10 [==============================] - 1s 60ms/step - loss: 0.0019 - val_loss: 0.0095\n",
            "Epoch 151/165\n",
            "10/10 [==============================] - 1s 60ms/step - loss: 0.0018 - val_loss: 0.0097\n",
            "Epoch 152/165\n",
            "10/10 [==============================] - 1s 60ms/step - loss: 0.0019 - val_loss: 0.0100\n",
            "Epoch 153/165\n",
            "10/10 [==============================] - 1s 60ms/step - loss: 0.0021 - val_loss: 0.0105\n",
            "Epoch 154/165\n",
            "10/10 [==============================] - 1s 59ms/step - loss: 0.0017 - val_loss: 0.0107\n",
            "Epoch 155/165\n",
            "10/10 [==============================] - 1s 62ms/step - loss: 0.0019 - val_loss: 0.0102\n",
            "Epoch 156/165\n",
            "10/10 [==============================] - 1s 59ms/step - loss: 0.0018 - val_loss: 0.0098\n",
            "Epoch 157/165\n",
            "10/10 [==============================] - 1s 61ms/step - loss: 0.0017 - val_loss: 0.0096\n",
            "Epoch 158/165\n",
            "10/10 [==============================] - 1s 61ms/step - loss: 0.0016 - val_loss: 0.0086\n",
            "Epoch 159/165\n",
            "10/10 [==============================] - 1s 58ms/step - loss: 0.0024 - val_loss: 0.0097\n",
            "Epoch 160/165\n",
            "10/10 [==============================] - 1s 62ms/step - loss: 0.0017 - val_loss: 0.0103\n",
            "Epoch 161/165\n",
            "10/10 [==============================] - 1s 60ms/step - loss: 0.0017 - val_loss: 0.0095\n",
            "Epoch 162/165\n",
            "10/10 [==============================] - 1s 60ms/step - loss: 0.0016 - val_loss: 0.0091\n",
            "Epoch 163/165\n",
            "10/10 [==============================] - 1s 60ms/step - loss: 0.0016 - val_loss: 0.0088\n",
            "Epoch 164/165\n",
            "10/10 [==============================] - 1s 59ms/step - loss: 0.0020 - val_loss: 0.0091\n",
            "Epoch 165/165\n",
            "10/10 [==============================] - 1s 61ms/step - loss: 0.0018 - val_loss: 0.0093\n"
          ]
        },
        {
          "output_type": "execute_result",
          "data": {
            "text/plain": [
              "<keras.callbacks.History at 0x7f28c6023f50>"
            ]
          },
          "metadata": {},
          "execution_count": 251
        }
      ]
    },
    {
      "cell_type": "code",
      "source": [
        "train_predict=model.predict(X_train)\n",
        "test_predict=model.predict(X_test)\n",
        "\n",
        "train_predict=scaler.inverse_transform(train_predict)\n",
        "test_predict=scaler.inverse_transform(test_predict)"
      ],
      "metadata": {
        "id": "hHblqFuQBsIA"
      },
      "execution_count": 252,
      "outputs": []
    },
    {
      "cell_type": "code",
      "source": [
        "import math\n",
        "from sklearn.metrics import mean_squared_error\n",
        "math.sqrt(mean_squared_error(y_train,train_predict))"
      ],
      "metadata": {
        "id": "KSXOQPtNAq86",
        "colab": {
          "base_uri": "https://localhost:8080/"
        },
        "outputId": "cb4c62a6-7b7d-4186-e60c-a6fa2a3bf66c"
      },
      "execution_count": 253,
      "outputs": [
        {
          "output_type": "execute_result",
          "data": {
            "text/plain": [
              "15.151396427085986"
            ]
          },
          "metadata": {},
          "execution_count": 253
        }
      ]
    },
    {
      "cell_type": "code",
      "source": [
        "math.sqrt(mean_squared_error(y_test,test_predict))"
      ],
      "metadata": {
        "id": "rluxit7PAq-w",
        "colab": {
          "base_uri": "https://localhost:8080/"
        },
        "outputId": "cc263b75-214b-4750-8bca-1621acd4db95"
      },
      "execution_count": 254,
      "outputs": [
        {
          "output_type": "execute_result",
          "data": {
            "text/plain": [
              "12.535618556408187"
            ]
          },
          "metadata": {},
          "execution_count": 254
        }
      ]
    },
    {
      "cell_type": "code",
      "source": [
        "look_back=60\n",
        "trainPredictPlot= np.empty_like(df_adj_close)\n",
        "trainPredictPlot[:, :]= np.nan\n",
        "trainPredictPlot[look_back:len(train_predict)+look_back, :]= train_predict\n",
        "testPredictPlot = np.empty_like(df_adj_close)\n",
        "testPredictPlot[:, :] = np.nan\n",
        "testPredictPlot[len(train_predict)+(look_back*2)+1:len(df_adj_close)-1, :] = test_predict\n",
        "plt.title(\"Adj CLose Data / Date\")\n",
        "plt.xlabel(\"Date (2020-2022)\")\n",
        "plt.ylabel(\"Adj Close\")\n",
        "plt.plot(scaler.inverse_transform(df_adj_close))\n",
        "plt.plot(trainPredictPlot)\n",
        "plt.plot(testPredictPlot)\n",
        "plt.gca().legend(('Original Adj_Close','Train Predicted','Test Predicted'))\n",
        "plt.rcParams['figure.figsize'] = [15, 6]\n",
        "plt.show()"
      ],
      "metadata": {
        "id": "hz3rN3D5ArBn",
        "colab": {
          "base_uri": "https://localhost:8080/",
          "height": 392
        },
        "outputId": "c858a962-59dd-4f55-d07e-c4288fc03511"
      },
      "execution_count": 255,
      "outputs": [
        {
          "output_type": "display_data",
          "data": {
            "text/plain": [
              "<Figure size 1080x432 with 1 Axes>"
            ],
            "image/png": "[encoded data removed]"
          },
          "metadata": {
            "needs_background": "light"
          }
        }
      ]
    },
    {
      "cell_type": "code",
      "source": [
        "train_predict=model.predict(X_train)\n",
        "test_predict=model.predict(X_test)\n",
        "train_predict.shape, test_predict.shape"
      ],
      "metadata": {
        "id": "OvF3XrNICMML",
        "colab": {
          "base_uri": "https://localhost:8080/"
        },
        "outputId": "8d87ec78-1dd1-4b88-cc54-4da93bae63ef"
      },
      "execution_count": 256,
      "outputs": [
        {
          "output_type": "execute_result",
          "data": {
            "text/plain": [
              "((291, 1), (90, 1))"
            ]
          },
          "metadata": {},
          "execution_count": 256
        }
      ]
    },
    {
      "cell_type": "code",
      "source": [
        "train_predict = scaler.inverse_transform(train_predict)\n",
        "test_predict = scaler.inverse_transform(test_predict)\n",
        "original_ytrain = scaler.inverse_transform(y_train.reshape(-1,1)) \n",
        "original_ytest = scaler.inverse_transform(y_test.reshape(-1,1))"
      ],
      "metadata": {
        "id": "QqynxUSmCRp5"
      },
      "execution_count": 257,
      "outputs": []
    },
    {
      "cell_type": "code",
      "source": [
        "x_input=test_data[len(test_data)-time_step:].reshape(1,-1)\n",
        "temp=list(x_input)\n",
        "temp=temp[0].tolist()\n",
        "from numpy import array\n",
        "lst_output=[]\n",
        "n_steps=time_step\n",
        "i=0\n",
        "pred_days= 8\n",
        "while(i<pred_days):\n",
        "    if(len(temp)>time_step):\n",
        "        x_input=np.array(temp[1:])\n",
        "        x_input = x_input.reshape(1,-1)\n",
        "        x_input = x_input.reshape((1, n_steps, 1))\n",
        "        yhat = model.predict(x_input, verbose=0)\n",
        "        temp.extend(yhat[0].tolist())\n",
        "        temp=temp[1:]       \n",
        "        lst_output.extend(yhat.tolist())\n",
        "        i=i+1     \n",
        "    else: \n",
        "        x_input = x_input.reshape((1, n_steps,1))\n",
        "        yhat = model.predict(x_input, verbose=0)\n",
        "        temp.extend(yhat[0].tolist())\n",
        "        lst_output.extend(yhat.tolist())\n",
        "        i=i+1"
      ],
      "metadata": {
        "id": "3ils36QoCdkI"
      },
      "execution_count": 258,
      "outputs": []
    },
    {
      "cell_type": "code",
      "source": [
        "print(\"Days to be Predict: \", len(lst_output))"
      ],
      "metadata": {
        "id": "x5VGAwxcCjSA",
        "colab": {
          "base_uri": "https://localhost:8080/"
        },
        "outputId": "8e1cd02d-233e-4599-cf5b-87979093021c"
      },
      "execution_count": 259,
      "outputs": [
        {
          "output_type": "stream",
          "name": "stdout",
          "text": [
            "Days to be Predict:  8\n"
          ]
        }
      ]
    },
    {
      "cell_type": "code",
      "source": [
        "last_days=np.arange(1,time_step+1)\n",
        "day_pred=np.arange(time_step+1,time_step+pred_days+1)"
      ],
      "metadata": {
        "id": "A3ge_i_ZCobQ"
      },
      "execution_count": 260,
      "outputs": []
    },
    {
      "cell_type": "code",
      "source": [
        "forec= np.empty((len(last_days)+pred_days+1,1))\n",
        "forec[:]= np.nan\n",
        "forec= forec.reshape(1,-1).tolist()[0]\n",
        "last_original_days_value= forec\n",
        "next_predicted_days_value= forec\n",
        "last_original_days_value[0:time_step+1]= scaler.inverse_transform(df_adj_close[len(df_adj_close)-time_step:]).reshape(1,-1).tolist()[0]\n",
        "next_predicted_days_value[time_step+1:]= scaler.inverse_transform(np.array(lst_output).reshape(-1,1)).reshape(1,-1).tolist()[0]\n",
        "new_pred_plot= pd.DataFrame({'last_original_days_value':last_original_days_value,'next_predicted_days_value':next_predicted_days_value})\n",
        "names= cycle(['Last 2 weeks close price','Predicted next 8 days close price'])\n",
        "fig= px.line(new_pred_plot,x=new_pred_plot.index,\n",
        "            y=[new_pred_plot['last_original_days_value'],\n",
        "            new_pred_plot['next_predicted_days_value']],\n",
        "            labels={'value': 'Stock price','index': 'Day'})\n",
        "fig.update_layout(title_text='Last 2 weeks vs next 8 days',\n",
        "plot_bgcolor='black', font_size=10, font_color='black',legend_title_text='Adj_Close Price')\n",
        "fig.for_each_trace(lambda t:  t.update(name= next(names)))\n",
        "fig.show()"
      ],
      "metadata": {
        "id": "5TnfrY-6CrZT",
        "colab": {
          "base_uri": "https://localhost:8080/",
          "height": 542
        },
        "outputId": "a6039009-61f0-417d-8468-13ffe4024bc4"
      },
      "execution_count": 261,
      "outputs": [
        {
          "output_type": "display_data",
          "data": {
            "text/html": [
              "<html>\n",
              "<head><meta charset=\"utf-8\" /></head>\n",
              "<body>\n",
              "    <div>            <script src=\"https://cdnjs.cloudflare.com/ajax/libs/mathjax/2.7.5/MathJax.js?config=TeX-AMS-MML_SVG\"></script><script type=\"text/javascript\">if (window.MathJax) {MathJax.Hub.Config({SVG: {font: \"STIX-Web\"}});}</script>                <script type=\"text/javascript\">window.PlotlyConfig = {MathJaxConfig: 'local'};</script>\n",
              "        <script src=\"https://cdn.plot.ly/plotly-2.8.3.min.js\"></script>                <div id=\"7566b8ea-d870-4e3d-a2af-b15b8132f6b0\" class=\"plotly-graph-div\" style=\"height:525px; width:100%;\"></div>            <script type=\"text/javascript\">                                    window.PLOTLYENV=window.PLOTLYENV || {};                                    if (document.getElementById(\"7566b8ea-d870-4e3d-a2af-b15b8132f6b0\")) {                    Plotly.newPlot(                        \"7566b8ea-d870-4e3d-a2af-b15b8132f6b0\",                        [{\"hovertemplate\":\"variable=last_original_days_value<br>Day=%{x}<br>Stock price=%{y}<extra></extra>\",\"legendgroup\":\"last_original_days_value\",\"line\":{\"color\":\"#636efa\",\"dash\":\"solid\"},\"marker\":{\"symbol\":\"circle\"},\"mode\":\"lines\",\"name\":\"Last 2 weeks close price\",\"orientation\":\"v\",\"showlegend\":true,\"x\":[0,1,2,3,4,5,6,7,8,9,10,11,12,13,14,15,16,17,18,19,20,21,22,23,24,25,26,27,28,29,30,31,32,33,34,35,36,37,38,39,40,41,42,43,44,45,46,47,48,49,50,51,52,53,54,55,56,57,58,59,60,61,62,63,64,65,66,67,68],\"xaxis\":\"x\",\"y\":[10.699000358581543,10.699000358581543,10.699000358581543,10.699000358581543,10.699000358581543,10.699000358581543,10.760000228881836,10.760000228881836,10.760000228881836,10.760000228881836,10.760000228881836,10.760000228881836,10.760000228881836,10.760000228881836,12.59000015258789,12.59000015258789,12.59000015258789,12.59000015258789,12.59000015258789,13.0,13.0,13.0,13.0,13.0,13.0,13.0,13.0,14.15999984741211,14.15999984741211,14.15999984741211,14.15999984741211,14.15999984741211,14.15999984741211,14.15999984741211,14.15999984741211,14.15999984741211,14.15999984741211,14.15999984741211,14.15999984741211,14.15999984741211,14.15999984741211,14.15999984741211,14.15999984741211,14.15999984741211,14.15999984741211,14.15999984741211,14.15999984741211,14.15999984741211,14.15999984741211,12.0,12.0,12.0,12.0,12.0,12.0,12.0,12.0,12.0,12.0,12.0,null,12.212780182542332,12.232811637471201,12.267476997537216,12.31112183620192,12.358913799761623,12.407331255958113,12.454106023464874,12.497963244954647],\"yaxis\":\"y\",\"type\":\"scatter\"},{\"hovertemplate\":\"variable=next_predicted_days_value<br>Day=%{x}<br>Stock price=%{y}<extra></extra>\",\"legendgroup\":\"next_predicted_days_value\",\"line\":{\"color\":\"#EF553B\",\"dash\":\"solid\"},\"marker\":{\"symbol\":\"circle\"},\"mode\":\"lines\",\"name\":\"Predicted next 8 days close price\",\"orientation\":\"v\",\"showlegend\":true,\"x\":[0,1,2,3,4,5,6,7,8,9,10,11,12,13,14,15,16,17,18,19,20,21,22,23,24,25,26,27,28,29,30,31,32,33,34,35,36,37,38,39,40,41,42,43,44,45,46,47,48,49,50,51,52,53,54,55,56,57,58,59,60,61,62,63,64,65,66,67,68],\"xaxis\":\"x\",\"y\":[10.699000358581543,10.699000358581543,10.699000358581543,10.699000358581543,10.699000358581543,10.699000358581543,10.760000228881836,10.760000228881836,10.760000228881836,10.760000228881836,10.760000228881836,10.760000228881836,10.760000228881836,10.760000228881836,12.59000015258789,12.59000015258789,12.59000015258789,12.59000015258789,12.59000015258789,13.0,13.0,13.0,13.0,13.0,13.0,13.0,13.0,14.15999984741211,14.15999984741211,14.15999984741211,14.15999984741211,14.15999984741211,14.15999984741211,14.15999984741211,14.15999984741211,14.15999984741211,14.15999984741211,14.15999984741211,14.15999984741211,14.15999984741211,14.15999984741211,14.15999984741211,14.15999984741211,14.15999984741211,14.15999984741211,14.15999984741211,14.15999984741211,14.15999984741211,14.15999984741211,12.0,12.0,12.0,12.0,12.0,12.0,12.0,12.0,12.0,12.0,12.0,null,12.212780182542332,12.232811637471201,12.267476997537216,12.31112183620192,12.358913799761623,12.407331255958113,12.454106023464874,12.497963244954647],\"yaxis\":\"y\",\"type\":\"scatter\"}],                        {\"template\":{\"data\":{\"bar\":[{\"error_x\":{\"color\":\"#2a3f5f\"},\"error_y\":{\"color\":\"#2a3f5f\"},\"marker\":{\"line\":{\"color\":\"#E5ECF6\",\"width\":0.5},\"pattern\":{\"fillmode\":\"overlay\",\"size\":10,\"solidity\":0.2}},\"type\":\"bar\"}],\"barpolar\":[{\"marker\":{\"line\":{\"color\":\"#E5ECF6\",\"width\":0.5},\"pattern\":{\"fillmode\":\"overlay\",\"size\":10,\"solidity\":0.2}},\"type\":\"barpolar\"}],\"carpet\":[{\"aaxis\":{\"endlinecolor\":\"#2a3f5f\",\"gridcolor\":\"white\",\"linecolor\":\"white\",\"minorgridcolor\":\"white\",\"startlinecolor\":\"#2a3f5f\"},\"baxis\":{\"endlinecolor\":\"#2a3f5f\",\"gridcolor\":\"white\",\"linecolor\":\"white\",\"minorgridcolor\":\"white\",\"startlinecolor\":\"#2a3f5f\"},\"type\":\"carpet\"}],\"choropleth\":[{\"colorbar\":{\"outlinewidth\":0,\"ticks\":\"\"},\"type\":\"choropleth\"}],\"contour\":[{\"colorbar\":{\"outlinewidth\":0,\"ticks\":\"\"},\"colorscale\":[[0.0,\"#0d0887\"],[0.1111111111111111,\"#46039f\"],[0.2222222222222222,\"#7201a8\"],[0.3333333333333333,\"#9c179e\"],[0.4444444444444444,\"#bd3786\"],[0.5555555555555556,\"#d8576b\"],[0.6666666666666666,\"#ed7953\"],[0.7777777777777778,\"#fb9f3a\"],[0.8888888888888888,\"#fdca26\"],[1.0,\"#f0f921\"]],\"type\":\"contour\"}],\"contourcarpet\":[{\"colorbar\":{\"outlinewidth\":0,\"ticks\":\"\"},\"type\":\"contourcarpet\"}],\"heatmap\":[{\"colorbar\":{\"outlinewidth\":0,\"ticks\":\"\"},\"colorscale\":[[0.0,\"#0d0887\"],[0.1111111111111111,\"#46039f\"],[0.2222222222222222,\"#7201a8\"],[0.3333333333333333,\"#9c179e\"],[0.4444444444444444,\"#bd3786\"],[0.5555555555555556,\"#d8576b\"],[0.6666666666666666,\"#ed7953\"],[0.7777777777777778,\"#fb9f3a\"],[0.8888888888888888,\"#fdca26\"],[1.0,\"#f0f921\"]],\"type\":\"heatmap\"}],\"heatmapgl\":[{\"colorbar\":{\"outlinewidth\":0,\"ticks\":\"\"},\"colorscale\":[[0.0,\"#0d0887\"],[0.1111111111111111,\"#46039f\"],[0.2222222222222222,\"#7201a8\"],[0.3333333333333333,\"#9c179e\"],[0.4444444444444444,\"#bd3786\"],[0.5555555555555556,\"#d8576b\"],[0.6666666666666666,\"#ed7953\"],[0.7777777777777778,\"#fb9f3a\"],[0.8888888888888888,\"#fdca26\"],[1.0,\"#f0f921\"]],\"type\":\"heatmapgl\"}],\"histogram\":[{\"marker\":{\"pattern\":{\"fillmode\":\"overlay\",\"size\":10,\"solidity\":0.2}},\"type\":\"histogram\"}],\"histogram2d\":[{\"colorbar\":{\"outlinewidth\":0,\"ticks\":\"\"},\"colorscale\":[[0.0,\"#0d0887\"],[0.1111111111111111,\"#46039f\"],[0.2222222222222222,\"#7201a8\"],[0.3333333333333333,\"#9c179e\"],[0.4444444444444444,\"#bd3786\"],[0.5555555555555556,\"#d8576b\"],[0.6666666666666666,\"#ed7953\"],[0.7777777777777778,\"#fb9f3a\"],[0.8888888888888888,\"#fdca26\"],[1.0,\"#f0f921\"]],\"type\":\"histogram2d\"}],\"histogram2dcontour\":[{\"colorbar\":{\"outlinewidth\":0,\"ticks\":\"\"},\"colorscale\":[[0.0,\"#0d0887\"],[0.1111111111111111,\"#46039f\"],[0.2222222222222222,\"#7201a8\"],[0.3333333333333333,\"#9c179e\"],[0.4444444444444444,\"#bd3786\"],[0.5555555555555556,\"#d8576b\"],[0.6666666666666666,\"#ed7953\"],[0.7777777777777778,\"#fb9f3a\"],[0.8888888888888888,\"#fdca26\"],[1.0,\"#f0f921\"]],\"type\":\"histogram2dcontour\"}],\"mesh3d\":[{\"colorbar\":{\"outlinewidth\":0,\"ticks\":\"\"},\"type\":\"mesh3d\"}],\"parcoords\":[{\"line\":{\"colorbar\":{\"outlinewidth\":0,\"ticks\":\"\"}},\"type\":\"parcoords\"}],\"pie\":[{\"automargin\":true,\"type\":\"pie\"}],\"scatter\":[{\"marker\":{\"colorbar\":{\"outlinewidth\":0,\"ticks\":\"\"}},\"type\":\"scatter\"}],\"scatter3d\":[{\"line\":{\"colorbar\":{\"outlinewidth\":0,\"ticks\":\"\"}},\"marker\":{\"colorbar\":{\"outlinewidth\":0,\"ticks\":\"\"}},\"type\":\"scatter3d\"}],\"scattercarpet\":[{\"marker\":{\"colorbar\":{\"outlinewidth\":0,\"ticks\":\"\"}},\"type\":\"scattercarpet\"}],\"scattergeo\":[{\"marker\":{\"colorbar\":{\"outlinewidth\":0,\"ticks\":\"\"}},\"type\":\"scattergeo\"}],\"scattergl\":[{\"marker\":{\"colorbar\":{\"outlinewidth\":0,\"ticks\":\"\"}},\"type\":\"scattergl\"}],\"scattermapbox\":[{\"marker\":{\"colorbar\":{\"outlinewidth\":0,\"ticks\":\"\"}},\"type\":\"scattermapbox\"}],\"scatterpolar\":[{\"marker\":{\"colorbar\":{\"outlinewidth\":0,\"ticks\":\"\"}},\"type\":\"scatterpolar\"}],\"scatterpolargl\":[{\"marker\":{\"colorbar\":{\"outlinewidth\":0,\"ticks\":\"\"}},\"type\":\"scatterpolargl\"}],\"scatterternary\":[{\"marker\":{\"colorbar\":{\"outlinewidth\":0,\"ticks\":\"\"}},\"type\":\"scatterternary\"}],\"surface\":[{\"colorbar\":{\"outlinewidth\":0,\"ticks\":\"\"},\"colorscale\":[[0.0,\"#0d0887\"],[0.1111111111111111,\"#46039f\"],[0.2222222222222222,\"#7201a8\"],[0.3333333333333333,\"#9c179e\"],[0.4444444444444444,\"#bd3786\"],[0.5555555555555556,\"#d8576b\"],[0.6666666666666666,\"#ed7953\"],[0.7777777777777778,\"#fb9f3a\"],[0.8888888888888888,\"#fdca26\"],[1.0,\"#f0f921\"]],\"type\":\"surface\"}],\"table\":[{\"cells\":{\"fill\":{\"color\":\"#EBF0F8\"},\"line\":{\"color\":\"white\"}},\"header\":{\"fill\":{\"color\":\"#C8D4E3\"},\"line\":{\"color\":\"white\"}},\"type\":\"table\"}]},\"layout\":{\"annotationdefaults\":{\"arrowcolor\":\"#2a3f5f\",\"arrowhead\":0,\"arrowwidth\":1},\"autotypenumbers\":\"strict\",\"coloraxis\":{\"colorbar\":{\"outlinewidth\":0,\"ticks\":\"\"}},\"colorscale\":{\"diverging\":[[0,\"#8e0152\"],[0.1,\"#c51b7d\"],[0.2,\"#de77ae\"],[0.3,\"#f1b6da\"],[0.4,\"#fde0ef\"],[0.5,\"#f7f7f7\"],[0.6,\"#e6f5d0\"],[0.7,\"#b8e186\"],[0.8,\"#7fbc41\"],[0.9,\"#4d9221\"],[1,\"#276419\"]],\"sequential\":[[0.0,\"#0d0887\"],[0.1111111111111111,\"#46039f\"],[0.2222222222222222,\"#7201a8\"],[0.3333333333333333,\"#9c179e\"],[0.4444444444444444,\"#bd3786\"],[0.5555555555555556,\"#d8576b\"],[0.6666666666666666,\"#ed7953\"],[0.7777777777777778,\"#fb9f3a\"],[0.8888888888888888,\"#fdca26\"],[1.0,\"#f0f921\"]],\"sequentialminus\":[[0.0,\"#0d0887\"],[0.1111111111111111,\"#46039f\"],[0.2222222222222222,\"#7201a8\"],[0.3333333333333333,\"#9c179e\"],[0.4444444444444444,\"#bd3786\"],[0.5555555555555556,\"#d8576b\"],[0.6666666666666666,\"#ed7953\"],[0.7777777777777778,\"#fb9f3a\"],[0.8888888888888888,\"#fdca26\"],[1.0,\"#f0f921\"]]},\"colorway\":[\"#636efa\",\"#EF553B\",\"#00cc96\",\"#ab63fa\",\"#FFA15A\",\"#19d3f3\",\"#FF6692\",\"#B6E880\",\"#FF97FF\",\"#FECB52\"],\"font\":{\"color\":\"#2a3f5f\"},\"geo\":{\"bgcolor\":\"white\",\"lakecolor\":\"white\",\"landcolor\":\"#E5ECF6\",\"showlakes\":true,\"showland\":true,\"subunitcolor\":\"white\"},\"hoverlabel\":{\"align\":\"left\"},\"hovermode\":\"closest\",\"mapbox\":{\"style\":\"light\"},\"paper_bgcolor\":\"white\",\"plot_bgcolor\":\"#E5ECF6\",\"polar\":{\"angularaxis\":{\"gridcolor\":\"white\",\"linecolor\":\"white\",\"ticks\":\"\"},\"bgcolor\":\"#E5ECF6\",\"radialaxis\":{\"gridcolor\":\"white\",\"linecolor\":\"white\",\"ticks\":\"\"}},\"scene\":{\"xaxis\":{\"backgroundcolor\":\"#E5ECF6\",\"gridcolor\":\"white\",\"gridwidth\":2,\"linecolor\":\"white\",\"showbackground\":true,\"ticks\":\"\",\"zerolinecolor\":\"white\"},\"yaxis\":{\"backgroundcolor\":\"#E5ECF6\",\"gridcolor\":\"white\",\"gridwidth\":2,\"linecolor\":\"white\",\"showbackground\":true,\"ticks\":\"\",\"zerolinecolor\":\"white\"},\"zaxis\":{\"backgroundcolor\":\"#E5ECF6\",\"gridcolor\":\"white\",\"gridwidth\":2,\"linecolor\":\"white\",\"showbackground\":true,\"ticks\":\"\",\"zerolinecolor\":\"white\"}},\"shapedefaults\":{\"line\":{\"color\":\"#2a3f5f\"}},\"ternary\":{\"aaxis\":{\"gridcolor\":\"white\",\"linecolor\":\"white\",\"ticks\":\"\"},\"baxis\":{\"gridcolor\":\"white\",\"linecolor\":\"white\",\"ticks\":\"\"},\"bgcolor\":\"#E5ECF6\",\"caxis\":{\"gridcolor\":\"white\",\"linecolor\":\"white\",\"ticks\":\"\"}},\"title\":{\"x\":0.05},\"xaxis\":{\"automargin\":true,\"gridcolor\":\"white\",\"linecolor\":\"white\",\"ticks\":\"\",\"title\":{\"standoff\":15},\"zerolinecolor\":\"white\",\"zerolinewidth\":2},\"yaxis\":{\"automargin\":true,\"gridcolor\":\"white\",\"linecolor\":\"white\",\"ticks\":\"\",\"title\":{\"standoff\":15},\"zerolinecolor\":\"white\",\"zerolinewidth\":2}}},\"xaxis\":{\"anchor\":\"y\",\"domain\":[0.0,1.0],\"title\":{\"text\":\"Day\"}},\"yaxis\":{\"anchor\":\"x\",\"domain\":[0.0,1.0],\"title\":{\"text\":\"Stock price\"}},\"legend\":{\"title\":{\"text\":\"Adj_Close Price\"},\"tracegroupgap\":0},\"margin\":{\"t\":60},\"title\":{\"text\":\"Last 2 weeks vs next 8 days\"},\"font\":{\"size\":10,\"color\":\"black\"},\"plot_bgcolor\":\"black\"},                        {\"responsive\": true}                    ).then(function(){\n",
              "                            \n",
              "var gd = document.getElementById('7566b8ea-d870-4e3d-a2af-b15b8132f6b0');\n",
              "var x = new MutationObserver(function (mutations, observer) {{\n",
              "        var display = window.getComputedStyle(gd).display;\n",
              "        if (!display || display === 'none') {{\n",
              "            console.log([gd, 'removed!']);\n",
              "            Plotly.purge(gd);\n",
              "            observer.disconnect();\n",
              "        }}\n",
              "}});\n",
              "\n",
              "// Listen for the removal of the full notebook cells\n",
              "var notebookContainer = gd.closest('#notebook-container');\n",
              "if (notebookContainer) {{\n",
              "    x.observe(notebookContainer, {childList: true});\n",
              "}}\n",
              "\n",
              "// Listen for the clearing of the current output cell\n",
              "var outputEl = gd.closest('.output');\n",
              "if (outputEl) {{\n",
              "    x.observe(outputEl, {childList: true});\n",
              "}}\n",
              "\n",
              "                        })                };                            </script>        </div>\n",
              "</body>\n",
              "</html>"
            ]
          },
          "metadata": {}
        }
      ]
    },
    {
      "cell_type": "code",
      "source": [
        "outputcsv = pd.DataFrame(forec, columns = ['Prediction']).to_csv('/content/DeGuzman_AC_forecast.csv')"
      ],
      "metadata": {
        "id": "N0pctT0UR5yJ"
      },
      "execution_count": 263,
      "outputs": []
    }
  ]
}